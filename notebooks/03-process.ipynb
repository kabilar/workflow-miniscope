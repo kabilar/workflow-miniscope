{
 "cells": [
  {
   "cell_type": "markdown",
   "metadata": {},
   "source": [
    "# DataJoint U24 - Workflow Miniscope"
   ]
  },
  {
   "cell_type": "markdown",
   "metadata": {},
   "source": [
    "## Setup\n",
    "\n",
    "Move to the parent directory for access to the `dj_local_conf.json` saved in [01-configure](./01-configure.ipynb)."
   ]
  },
  {
   "cell_type": "code",
   "execution_count": 1,
   "metadata": {},
   "outputs": [],
   "source": [
    "import os\n",
    "# change to the upper level folder to detect dj_local_conf.json\n",
    "if os.path.basename(os.getcwd())=='notebooks': os.chdir('..')\n",
    "assert os.path.basename(os.getcwd())=='workflow-miniscope', (\n",
    "    \"Please move to the workflow directory\")\n",
    "import datajoint as dj"
   ]
  },
  {
   "cell_type": "markdown",
   "metadata": {},
   "source": [
    "## Processing Parameters\n",
    "\n",
    "Before processing the data itself, we should set up the parameters in Insert an entry into `miniscope.MotionCorrectionParamSet`. These will be referenced by the analysis package, and can be referenced for multiple datasets."
   ]
  },
  {
   "cell_type": "code",
   "execution_count": null,
   "metadata": {},
   "outputs": [],
   "source": [
    "import numpy as np\n",
    "from workflow_miniscope.pipeline import miniscope"
   ]
  },
  {
   "cell_type": "markdown",
   "metadata": {},
   "source": [
    "Define the parameters:"
   ]
  },
  {
   "cell_type": "code",
   "execution_count": 2,
   "metadata": {},
   "outputs": [],
   "source": [
    "params = dict(pars_envs = ['memory_size_to_use', 12, 'memory_size_per_patch', 0.6, \n",
    "                           'patch_dims', [64, 64]],\n",
    "              include_residual = False,\n",
    "              gSig = 3,           \n",
    "              gSiz = 15,\n",
    "              ssub = 1,\n",
    "              with_dendrites = True,\n",
    "              updateA_search_method = 'dilate',\n",
    "              updateA_bSiz = 5,\n",
    "              updateA_dist = None,\n",
    "              spatial_constraints = ['connected', True, 'circular', False],\n",
    "              spatial_algorithm = 'hals_thresh',\n",
    "              Fs = 30,\n",
    "              tsub = 5,\n",
    "              deconv_flag = True,\n",
    "              deconv_options = ['type', 'ar1', 'method', 'constrained', 'smin', -5, \n",
    "                                'optimize_pars', True, 'optimize_b', True, \n",
    "                                'max_tau', 100],\n",
    "              nk = 3,\n",
    "              detrend_method = 'spline',\n",
    "              bg_model = 'ring',\n",
    "              nb = 1,\n",
    "              ring_radius = 23,\n",
    "              num_neighbors = [],\n",
    "              show_merge = False,\n",
    "              merge_thr = 0.65,\n",
    "              method_dist = 'max',\n",
    "              dmin = 5,\n",
    "              dmin_only = 2,\n",
    "              merge_thr_spatial = [0.8, 0.4, -float('inf')],\n",
    "              K = [],\n",
    "              min_corr = 0.9,\n",
    "              min_pnr = 15,\n",
    "              min_pixel = None,\n",
    "              bd = 0,\n",
    "              frame_range = [],\n",
    "              save_initialization = False,\n",
    "              use_parallel = True,\n",
    "              show_init = False,\n",
    "              choose_params = False,\n",
    "              center_psf = True,\n",
    "              min_corr_res = 0.7,\n",
    "              min_pnr_res = 8,\n",
    "              seed_method_res = 'auto',\n",
    "              update_sn = True,\n",
    "              with_manual_intervention = False)"
   ]
  },
  {
   "cell_type": "markdown",
   "metadata": {},
   "source": [
    "To insert the parameters, use the following function:\n",
    "\n",
    "`NOTE: THIS FUNCTION IS STILL UNDER DEVELOPMENT AND MAY NOT BE FUNCTIONAL`"
   ]
  },
  {
   "cell_type": "code",
   "execution_count": 3,
   "metadata": {},
   "outputs": [],
   "source": [
    "miniscope.MotionCorrectionParamSet.insert_new_params(\n",
    "    processing_method='mcgill_miniscope_analysis', \n",
    "    paramset_idx=0, \n",
    "    paramset_desc=('Calcium imaging analysis with Miniscope Analysis' \n",
    "                   + 'using default parameters'), \n",
    "    params=params)"
   ]
  },
  {
   "cell_type": "markdown",
   "metadata": {},
   "source": [
    "## Data Ingestion\n",
    "\n",
    "The following steps outline ingestion of UCLA Miniscope data, as well as acquired metadata and processed data, into `workflow-miniscope`. To automate ingestion, see [03-automate](03-automate-optional.ipynb)."
   ]
  },
  {
   "cell_type": "markdown",
   "metadata": {},
   "source": [
    "### Insert into `subject.Subject`"
   ]
  },
  {
   "cell_type": "code",
   "execution_count": 9,
   "metadata": {},
   "outputs": [],
   "source": [
    "subject.Subject.insert1(dict(subject='subject1', \n",
    "                             sex='F', \n",
    "                             subject_birth_date='2019-01-01 00:00:01', \n",
    "                             subject_description='no description'))"
   ]
  },
  {
   "cell_type": "markdown",
   "metadata": {},
   "source": [
    "### Insert into `lab.Equipment`"
   ]
  },
  {
   "cell_type": "code",
   "execution_count": 10,
   "metadata": {},
   "outputs": [],
   "source": [
    "Equipment.insert1(dict(scanner='Miniscope-DAQ-V3'))"
   ]
  },
  {
   "cell_type": "markdown",
   "metadata": {},
   "source": [
    "### Insert into `session.Session`"
   ]
  },
  {
   "cell_type": "code",
   "execution_count": 11,
   "metadata": {},
   "outputs": [],
   "source": [
    "session.Session.insert1(dict(subject='subject1', \n",
    "                             session_datetime='2021-01-01 00:00:01'))"
   ]
  },
  {
   "cell_type": "markdown",
   "metadata": {},
   "source": [
    "### Insert into `session.SessionDirectory`"
   ]
  },
  {
   "cell_type": "code",
   "execution_count": null,
   "metadata": {},
   "outputs": [],
   "source": [
    "session.SessionDirectory.insert1(dict(subject='subject1', \n",
    "                                      session_datetime='2021-01-01 00:00:01', \n",
    "                                      session_dir='/subject1/session0'))"
   ]
  },
  {
   "cell_type": "markdown",
   "metadata": {},
   "source": [
    "### Insert into `miniscope.Recording`\n",
    "\n",
    "`ELEMENT STILL UNDER DEVELOPMENT. FOLLOWING NOT FULLY FUNCTIONAL`"
   ]
  },
  {
   "cell_type": "code",
   "execution_count": null,
   "metadata": {},
   "outputs": [],
   "source": [
    "scan.Scan.insert1(dict(subject='subject1', \n",
    "                       session_datetime='2021-01-01 00:00:01', \n",
    "                       scan_id=0, \n",
    "                       scanner='Miniscope-DAQ-V3', \n",
    "                       acq_software='Miniscope-DAQ-V3',\n",
    "                       scan_notes=''))"
   ]
  },
  {
   "cell_type": "markdown",
   "metadata": {},
   "source": [
    "### Populate `miniscope.RecordingInfo`\n",
    "\n",
    "+ This imported table stores information about the acquired image (e.g. image dimensions, file paths, etc.).\n",
    "+ `populate` automatically calls `make` for every key for which the auto-populated table is missing data.\n",
    "+ `populate_settings` passes arguments to the `populate` method.\n",
    "+ `display_progress=True` reports the progress bar"
   ]
  },
  {
   "cell_type": "code",
   "execution_count": null,
   "metadata": {},
   "outputs": [],
   "source": [
    "populate_settings = {'display_progress': True}"
   ]
  },
  {
   "cell_type": "code",
   "execution_count": null,
   "metadata": {},
   "outputs": [],
   "source": [
    "scan.ScanInfo.populate(**populate_settings)"
   ]
  },
  {
   "cell_type": "markdown",
   "metadata": {},
   "source": [
    "---\n",
    "# CONTINUE EDITING HERE\n",
    "---"
   ]
  },
  {
   "cell_type": "markdown",
   "metadata": {},
   "source": [
    "## Insert an entry into `imaging.ProcessingTask`\n",
    "\n",
    "+ This entry will trigger ingestion of the processed results (i.e. motion correction, segmentation, and traces)\n",
    "\n",
    "+ The `paramset_idx` is the parameter set stored in `imaging.ProcessingParamSet` that is used for the image processing.\n",
    "\n",
    "+ The `processing_output_dir` attribute contains the output directory of the processed results (relative the the imaging root data directory)."
   ]
  },
  {
   "cell_type": "markdown",
   "metadata": {},
   "source": [
    "## Populate `imaging.Processing`\n",
    "\n",
    "+ For the `task_mode=load` specified above in `imaging.ProcessingTask`, this step ensures that the output directory contains the valid processed outputs.\n",
    "\n",
    "+ In the future, this step will provide for the option to `trigger` the analysis within this workflow (if the `task_mode=trigger`)."
   ]
  },
  {
   "cell_type": "code",
   "execution_count": null,
   "metadata": {},
   "outputs": [],
   "source": [
    "imaging.Processing.populate(**populate_settings)"
   ]
  },
  {
   "cell_type": "markdown",
   "metadata": {},
   "source": [
    "## Populate `imaging.MotionCorrection`\n",
    "\n",
    "+ This table contains the rigid or non-rigid motion correction data including the shifts and summary images.\n"
   ]
  },
  {
   "cell_type": "code",
   "execution_count": null,
   "metadata": {},
   "outputs": [],
   "source": [
    "imaging.MotionCorrection.populate(**populate_settings)"
   ]
  },
  {
   "cell_type": "markdown",
   "metadata": {},
   "source": [
    "## Insert an entry into `imaging.Curation`\n",
    "\n",
    "+ The next step in the pipeline is the curation of segmentation results. If a manual curation was implemented, an entry needs to be manually inserted into the table Curation, which specifies the directory to the curated results in curation_output_dir. If we would like to process the processed outcome directly, an entry is also needed in Curation. A method create1_from_processing_task was provided to help this insertion. It copies the processing_output_dir in ProcessingTask to the field curation_output_dir in the table Curation with a new curation_id.\n",
    "\n",
    "+ In this example, we create/insert one `imaging.Curation` for each `imaging.ProcessingTask`, specifying the same output directory."
   ]
  },
  {
   "cell_type": "code",
   "execution_count": null,
   "metadata": {},
   "outputs": [],
   "source": [
    "imaging.Curation(dict(subject='subject1', \n",
    "                      session_datetime='2021-01-01 00:00:01', \n",
    "                      scan_id=0,\n",
    "                      paramset_idx=0,\n",
    "                      curation_id=0,\n",
    "                      curation_time='2021-01-01 00:00:01', \n",
    "                      curation_output_dir='<imaging_root_data_dir>/subject1/session0/miniscope_analysis',\n",
    "                      manual_curation=False,\n",
    "                      curation_note=''})"
   ]
  },
  {
   "cell_type": "markdown",
   "metadata": {},
   "source": [
    "## Populate `imaging.Segmentation`\n",
    "\n",
    "+ This table contains the mask coordinates, weights, and centers."
   ]
  },
  {
   "cell_type": "code",
   "execution_count": null,
   "metadata": {},
   "outputs": [],
   "source": [
    "imaging.Segmentation.populate(**populate_settings)"
   ]
  },
  {
   "cell_type": "markdown",
   "metadata": {},
   "source": [
    "## Populate `imaging.MaskClassification`\n",
    "\n",
    "+ This table is currently not implemented."
   ]
  },
  {
   "cell_type": "code",
   "execution_count": null,
   "metadata": {},
   "outputs": [],
   "source": [
    "imaging.MaskClassification.populate(**populate_settings)"
   ]
  },
  {
   "cell_type": "markdown",
   "metadata": {},
   "source": [
    "## Populate `imaging.Fluorescence`\n",
    "\n",
    "+ This table contains the fluorescence traces prior filtering and spike extraction"
   ]
  },
  {
   "cell_type": "code",
   "execution_count": null,
   "metadata": {},
   "outputs": [],
   "source": [
    "imaging.Fluorescence.populate(**populate_settings)"
   ]
  },
  {
   "cell_type": "markdown",
   "metadata": {},
   "source": [
    "## Populate `imaging.Activity`\n",
    "+ This table contains the inferred neural activity from the fluorescence traces."
   ]
  },
  {
   "cell_type": "code",
   "execution_count": null,
   "metadata": {},
   "outputs": [],
   "source": [
    "imaging.Activity.populate(**populate_settings)"
   ]
  },
  {
   "cell_type": "markdown",
   "metadata": {},
   "source": [
    "## Proceed to the `02explore.ipynb` Jupyter Notebook\n",
    "\n",
    "+ This notebook describes the steps to query, fetch, and visualize the imaging data."
   ]
  }
 ],
 "metadata": {
  "jupytext": {
   "formats": "ipynb,py"
  },
  "kernelspec": {
   "display_name": "Python 3 (ipykernel)",
   "language": "python",
   "name": "python3"
  },
  "language_info": {
   "codemirror_mode": {
    "name": "ipython",
    "version": 3
   },
   "file_extension": ".py",
   "mimetype": "text/x-python",
   "name": "python",
   "nbconvert_exporter": "python",
   "pygments_lexer": "ipython3",
   "version": "3.9.12"
  }
 },
 "nbformat": 4,
 "nbformat_minor": 4
}
